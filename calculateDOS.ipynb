{
 "cells": [
  {
   "cell_type": "code",
   "execution_count": 1,
   "metadata": {},
   "outputs": [],
   "source": [
    "import numpy as np\n",
    "from utilitiesDOS import read_dump, calculate_fft, calculate_autocorr"
   ]
  },
  {
   "cell_type": "markdown",
   "metadata": {},
   "source": [
    "### Import LAMMPS velocities"
   ]
  },
  {
   "cell_type": "code",
   "execution_count": 2,
   "metadata": {},
   "outputs": [
    {
     "name": "stdout",
     "output_type": "stream",
     "text": [
      "Shape of the velocities array = (850, 3, 2001)\n",
      "Number of frames = 2001\n",
      "Number of particles = 850\n"
     ]
    }
   ],
   "source": [
    "path_to_file = \"LAMMPS-input/dump.lammpsvel\"\n",
    "velocities, n_atoms, n_frames, n_columns, printing_period = read_dump(path_to_file)\n",
    "print(\"Shape of the velocities array =\", np.shape(velocities))\n",
    "print(\"Number of frames =\", n_frames)\n",
    "print(\"Number of particles =\", n_atoms)"
   ]
  },
  {
   "cell_type": "markdown",
   "metadata": {},
   "source": [
    "### Choose correlation length"
   ]
  },
  {
   "cell_type": "code",
   "execution_count": 4,
   "metadata": {},
   "outputs": [
    {
     "name": "stdout",
     "output_type": "stream",
     "text": [
      "Correlation length = 500\n"
     ]
    }
   ],
   "source": [
    "correlation_len = n_frames // 4\n",
    "print(\"Correlation length =\", correlation_len)"
   ]
  },
  {
   "cell_type": "markdown",
   "metadata": {},
   "source": [
    "### Set timestep"
   ]
  },
  {
   "cell_type": "code",
   "execution_count": 8,
   "metadata": {},
   "outputs": [
    {
     "name": "stdout",
     "output_type": "stream",
     "text": [
      "The velocities was printed every 11.6 fs\n"
     ]
    }
   ],
   "source": [
    "dt = 2.32 # fs\n",
    "min_dt = dt * printing_period # duration between two printed velocity\n",
    "print(\"The velocities was printed every\", min_dt, \"fs\")"
   ]
  },
  {
   "cell_type": "markdown",
   "metadata": {},
   "source": [
    "### Calculate VACF"
   ]
  },
  {
   "cell_type": "code",
   "execution_count": 17,
   "metadata": {},
   "outputs": [],
   "source": [
    "VACF_v, VACF_vx, VACF_vy, VACF_vz = np.zeros((4, correlation_len), dtype=float)\n",
    "for i_time in range(correlation_len, n_frames, correlation_len):\n",
    "    for i_atom in range(n_atoms):\n",
    "        VACF_vx += calculate_autocorr(velocities[i_atom,0,i_time-correlation_len:i_time], len(VACF_vx))\n",
    "        VACF_vy += calculate_autocorr(velocities[i_atom,1,i_time-correlation_len:i_time], len(VACF_vy))\n",
    "        VACF_vz += calculate_autocorr(velocities[i_atom,2,i_time-correlation_len:i_time], len(VACF_vz))"
   ]
  },
  {
   "cell_type": "code",
   "execution_count": 30,
   "metadata": {},
   "outputs": [],
   "source": [
    "vacf_xyz = np.zeros((3, correlation_len), dtype=float)\n",
    "vacf = np.zeros((correlation_len), dtype=float)  \n",
    "for i_time in range(correlation_len, n_frames, correlation_len):\n",
    "    for i_atom in range(n_atoms):\n",
    "        for i_dim in range(3):\n",
    "            vacf_xyz[i_dim] += calculate_autocorr(velocities[i_atom, i_dim,i_time-correlation_len:i_time],\n",
    "                                                   correlation_len)\n",
    "for vxyz in vacf_xyz:\n",
    "    vacf += vxyz\n",
    "vacf /= vacf[0] # Normalise the velocity correlation"
   ]
  },
  {
   "cell_type": "code",
   "execution_count": 31,
   "metadata": {},
   "outputs": [
    {
     "ename": "NameError",
     "evalue": "name 'plt' is not defined",
     "output_type": "error",
     "traceback": [
      "\u001b[0;31m---------------------------------------------------------------------------\u001b[0m",
      "\u001b[0;31mNameError\u001b[0m                                 Traceback (most recent call last)",
      "Cell \u001b[0;32mIn[31], line 1\u001b[0m\n\u001b[0;32m----> 1\u001b[0m \u001b[43mplt\u001b[49m\u001b[38;5;241m.\u001b[39mloglog(vacf)\n",
      "\u001b[0;31mNameError\u001b[0m: name 'plt' is not defined"
     ]
    }
   ],
   "source": [
    "plt.loglog(vacf)"
   ]
  },
  {
   "cell_type": "code",
   "execution_count": null,
   "metadata": {},
   "outputs": [],
   "source": [
    "import numpy as np\n",
    "from scipy import signal\n",
    "import matplotlib.pyplot as plt\n",
    "from utilitiesDOS import read_dump, calculate_fft, calculate_autocorr"
   ]
  },
  {
   "cell_type": "code",
   "execution_count": 13,
   "metadata": {},
   "outputs": [],
   "source": []
  },
  {
   "cell_type": "code",
   "execution_count": 9,
   "metadata": {},
   "outputs": [],
   "source": [
    "\n",
    "#Ensemble average of correlation\n",
    "blocks = range(corlen,total,corlen)\n",
    "for t in blocks:\n",
    "    for i in range(num_atoms):\n",
    "        VACF_vx += autocorr(data[i,0,t-corlen:t], len(VACF_vx))\n",
    "        VACF_vy += autocorr(data[i,1,t-corlen:t], len(VACF_vy))\n",
    "        VACF_vz += autocorr(data[i,2,t-corlen:t], len(VACF_vz))\n",
    "#Average of Vx,Vy,Vz and blocks \n",
    "TVACF_v += ((VACF_vx + VACF_vy + VACF_vz) / 3.00)\n",
    "TVACF_norm = TVACF_v / TVACF_v[0]"
   ]
  },
  {
   "cell_type": "code",
   "execution_count": 11,
   "metadata": {},
   "outputs": [
    {
     "data": {
      "image/png": "[encoded data removed]",
      "text/plain": [
       "<Figure size 640x480 with 1 Axes>"
      ]
     },
     "metadata": {},
     "output_type": "display_data"
    }
   ],
   "source": [
    "# plt.semilogx(TVACF_norm, '.')\n",
    "dt = 10 # fs\n",
    "# x = np.arange(corlen)*dt\n",
    "#Write VACF to file\n",
    "# f = open('VACF.dat','w')\n",
    "# f.write('#Time(ps) Norm. I. (No Units) \\n')\n",
    "# for i in range(x.size):\n",
    "#     f.write('%f %f \\n' %(x[i],TVACF_norm[i]))\n",
    "# f.close()\n",
    "\n",
    "std = corlen/15.5\n",
    "vsize = TVACF_v.size  \n",
    "# np.lib.pad(TVACF_v,(0,vsize*15),'constant',constant_values=(0))\n",
    "TVACF_v *= signal.get_window(('gaussian',std),vsize) \n",
    "fft_v = fft_autocorr(TVACF_norm,dt) # * 1.0E12 #THz^-1     \n",
    "freq = np.fft.rfftfreq(vsize, d=dt) # / 1.0E12 #THz\n",
    "\n",
    "plt.plot(freq,np.abs(fft_v))\n",
    "plt.xlabel('THz')\n",
    "plt.ylabel(r'VDOS [THz $^{-1}$]')\n",
    "plt.show()\n"
   ]
  },
  {
   "cell_type": "code",
   "execution_count": 51,
   "metadata": {},
   "outputs": [
    {
     "data": {
      "text/plain": [
       "[<matplotlib.lines.Line2D at 0x7fc962f933d0>]"
      ]
     },
     "execution_count": 51,
     "metadata": {},
     "output_type": "execute_result"
    },
    {
     "data": {
      "image/png": "[encoded data removed]",
      "text/plain": [
       "<Figure size 640x480 with 1 Axes>"
      ]
     },
     "metadata": {},
     "output_type": "display_data"
    }
   ],
   "source": [
    "plt.semilogx(TVACF_norm)"
   ]
  }
 ],
 "metadata": {
  "kernelspec": {
   "display_name": "Python 3",
   "language": "python",
   "name": "python3"
  },
  "language_info": {
   "codemirror_mode": {
    "name": "ipython",
    "version": 3
   },
   "file_extension": ".py",
   "mimetype": "text/x-python",
   "name": "python",
   "nbconvert_exporter": "python",
   "pygments_lexer": "ipython3",
   "version": "3.11.6"
  }
 },
 "nbformat": 4,
 "nbformat_minor": 2
}
