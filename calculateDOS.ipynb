{
 "cells": [
  {
   "cell_type": "code",
   "execution_count": 1,
   "metadata": {},
   "outputs": [],
   "source": [
    "import numpy as np\n",
    "from scipy import signal\n",
    "from matplotlib import pyplot as plt\n",
    "from utilitiesDOS import read_dump, calculate_fft, calculate_autocorr"
   ]
  },
  {
   "cell_type": "code",
   "execution_count": 2,
   "metadata": {},
   "outputs": [],
   "source": [
    "import os, sys, git\n",
    "sys.path.append('pyplot-perso/')\n",
    "from functions import complete_panel, save_figure, set_boundaries, \\\n",
    "    add_subplotlabels, set_boundaries, prepare_figure\n",
    "from color_series1 import colors\n",
    "path_figures = \"/figures/\""
   ]
  },
  {
   "cell_type": "code",
   "execution_count": 3,
   "metadata": {},
   "outputs": [],
   "source": [
    "current_path = os.getcwd()\n",
    "git_repo = git.Repo(current_path, search_parent_directories=True)\n",
    "git_path = git_repo.git.rev_parse(\"--show-toplevel\")\n",
    "sys.path.append(git_path)"
   ]
  },
  {
   "cell_type": "markdown",
   "metadata": {},
   "source": [
    "### Import LAMMPS velocities"
   ]
  },
  {
   "cell_type": "code",
   "execution_count": 4,
   "metadata": {},
   "outputs": [
    {
     "name": "stdout",
     "output_type": "stream",
     "text": [
      "Shape of the velocities array = (850, 3, 20001)\n",
      "Number of frames = 20001\n",
      "Number of particles = 850\n"
     ]
    }
   ],
   "source": [
    "path_to_file = \"LAMMPS-input/dump.lammpsvel\"\n",
    "velocities, n_atoms, n_frames, n_columns, printing_period, masses = read_dump(path_to_file)\n",
    "# Here velocities has units of A/fs\n",
    "print(\"Shape of the velocities array =\", np.shape(velocities))\n",
    "print(\"Number of frames =\", n_frames)\n",
    "print(\"Number of particles =\", n_atoms)"
   ]
  },
  {
   "cell_type": "markdown",
   "metadata": {},
   "source": [
    "### Choose correlation length"
   ]
  },
  {
   "cell_type": "code",
   "execution_count": 6,
   "metadata": {},
   "outputs": [
    {
     "name": "stdout",
     "output_type": "stream",
     "text": [
      "Correlation length = 5000\n"
     ]
    }
   ],
   "source": [
    "correlation_len = n_frames // 4\n",
    "print(\"Correlation length =\", correlation_len)"
   ]
  },
  {
   "cell_type": "markdown",
   "metadata": {},
   "source": [
    "### Set timestep"
   ]
  },
  {
   "cell_type": "code",
   "execution_count": 7,
   "metadata": {},
   "outputs": [
    {
     "name": "stdout",
     "output_type": "stream",
     "text": [
      "The velocities was printed every 11.6 fs\n"
     ]
    }
   ],
   "source": [
    "dt = 2.32 # fs\n",
    "min_dt = dt * printing_period # duration between two printed velocity\n",
    "print(\"The velocities was printed every\", min_dt, \"fs\")"
   ]
  },
  {
   "cell_type": "markdown",
   "metadata": {},
   "source": [
    "### Calculate VACF\n",
    "\n",
    "Should be weighted by mass"
   ]
  },
  {
   "cell_type": "code",
   "execution_count": 11,
   "metadata": {},
   "outputs": [],
   "source": [
    "vacf_xyz = np.zeros((3, correlation_len), dtype=float)\n",
    "vacf = np.zeros((correlation_len), dtype=float)\n",
    "N_split = 0\n",
    "for i_time in range(correlation_len, n_frames, correlation_len):\n",
    "    for i_atom, m in zip(range(n_atoms), masses):\n",
    "        for i_dim in range(3):\n",
    "            vacf_xyz[i_dim] += m * calculate_autocorr(velocities[i_atom,\n",
    "                                                             i_dim,i_time-correlation_len:i_time],\n",
    "                                                   correlation_len)\n",
    "    N_split += 1\n",
    "for vxyz in vacf_xyz: # Summ all 3 directions x y and z\n",
    "    vacf += vxyz\n",
    "vxyz /= N_split\n",
    "#vacf /= vacf[0] # Normalize the velocity correlation\n",
    "time = np.arange(len(vacf)) * min_dt # fs\n",
    "time /= 1000 # ps"
   ]
  },
  {
   "cell_type": "code",
   "execution_count": 10,
   "metadata": {},
   "outputs": [
    {
     "name": "stdout",
     "output_type": "stream",
     "text": [
      "5000\n",
      "10000\n",
      "15000\n",
      "20000\n"
     ]
    }
   ],
   "source": [
    "for i_time in range(correlation_len, n_frames, correlation_len):\n",
    "    print(i_time)"
   ]
  },
  {
   "cell_type": "code",
   "execution_count": null,
   "metadata": {},
   "outputs": [],
   "source": [
    "filename = \"vacf\"\n",
    "desired_transparency = True\n",
    "for mode, mygray in zip(['light', 'dark'], [colors[\"mylightgray\"], colors[\"mydarkgray\"]]):    \n",
    "    fig = prepare_figure(mode, transparency=desired_transparency, desired_figsize=(18,6))\n",
    "    ax, n, l_tot, c_tot = [], 0, 1, 1\n",
    "    n += 1\n",
    "    ax.append(plt.subplot(l_tot, c_tot, n))\n",
    "    ax[-1].semilogx(time, vacf, 'o-', color=colors[\"mycyan\"],\n",
    "                markersize = 12, linewidth=2)\n",
    "    complete_panel(ax[-1], r'$t$ (ps)', r'$\\textrm{VACF}$',\n",
    "                   legend=False, axis_color=mygray, xpad=15, locator_x=None)\n",
    "    set_boundaries(plt, x_boundaries=(0.008, 1), y_boundaries=(-0.2, 1.2)) \n",
    "    save_figure(plt, fig, mode, git_path, path_figures, filename, transparency = desired_transparency)"
   ]
  },
  {
   "cell_type": "markdown",
   "metadata": {},
   "source": [
    "### Calculate DOS"
   ]
  },
  {
   "cell_type": "code",
   "execution_count": null,
   "metadata": {},
   "outputs": [],
   "source": [
    "freq, dos = calculate_fft(time, vacf).T"
   ]
  },
  {
   "cell_type": "code",
   "execution_count": null,
   "metadata": {},
   "outputs": [],
   "source": [
    "filename = \"dos\"\n",
    "desired_transparency = True\n",
    "for mode, mygray in zip(['light', 'dark'], [colors[\"mylightgray\"], colors[\"mydarkgray\"]]):    \n",
    "    fig = prepare_figure(mode, transparency=desired_transparency, desired_figsize=(18,6))\n",
    "    ax, n, l_tot, c_tot = [], 0, 1, 1\n",
    "    n += 1\n",
    "    ax.append(plt.subplot(l_tot, c_tot, n))\n",
    "    ax[-1].semilogx(freq, dos*1000, 'o-', color=colors[\"mycyan\"],\n",
    "                markersize = 12, linewidth=2)\n",
    "    complete_panel(ax[-1], r'$f$ (MHz)', r'$\\textrm{DoS}$ (ns)',\n",
    "                   legend=False, axis_color=mygray, xpad=15, locator_x=None)\n",
    "    # set_boundaries(plt, x_boundaries=(8, 1000), y_boundaries=(-0.2, 1.2)) \n",
    "    save_figure(plt, fig, mode, git_path, path_figures, filename, transparency = desired_transparency)"
   ]
  }
 ],
 "metadata": {
  "kernelspec": {
   "display_name": "Python 3",
   "language": "python",
   "name": "python3"
  },
  "language_info": {
   "codemirror_mode": {
    "name": "ipython",
    "version": 3
   },
   "file_extension": ".py",
   "mimetype": "text/x-python",
   "name": "python",
   "nbconvert_exporter": "python",
   "pygments_lexer": "ipython3",
   "version": "3.11.6"
  }
 },
 "nbformat": 4,
 "nbformat_minor": 2
}
